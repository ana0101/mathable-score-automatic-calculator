{
 "cells": [
  {
   "cell_type": "code",
   "execution_count": 4,
   "metadata": {},
   "outputs": [],
   "source": [
    "import numpy as np\n",
    "import cv2 as cv\n",
    "import os\n",
    "from copy import deepcopy"
   ]
  },
  {
   "cell_type": "code",
   "execution_count": 5,
   "metadata": {},
   "outputs": [],
   "source": [
    "def show_image(title, image):\n",
    "    image = cv.resize(image, (0,0), fx=0.2, fy=0.2)\n",
    "    cv.imshow(title, image)\n",
    "    cv.waitKey(0)\n",
    "    cv.destroyAllWindows()"
   ]
  },
  {
   "cell_type": "code",
   "execution_count": 6,
   "metadata": {},
   "outputs": [],
   "source": [
    "def find_color_values_using_trackbar(frame):\n",
    "    def nothing(x):\n",
    "        pass\n",
    "\n",
    "    cv.namedWindow('Trackbars')\n",
    "    cv.createTrackbar('L - H', 'Trackbars', 0, 179, nothing)\n",
    "    cv.createTrackbar('L - S', 'Trackbars', 0, 255, nothing)\n",
    "    cv.createTrackbar('L - V', 'Trackbars', 0, 255, nothing)\n",
    "    cv.createTrackbar('U - H', 'Trackbars', 179, 179, nothing)\n",
    "    cv.createTrackbar('U - S', 'Trackbars', 255, 255, nothing)\n",
    "    cv.createTrackbar('U - V', 'Trackbars', 255, 255, nothing)\n",
    "\n",
    "    while True:\n",
    "        l_h = cv.getTrackbarPos('L - H', 'Trackbars')\n",
    "        l_s = cv.getTrackbarPos('L - S', 'Trackbars')\n",
    "        l_v = cv.getTrackbarPos('L - V', 'Trackbars')\n",
    "        u_h = cv.getTrackbarPos('U - H', 'Trackbars')\n",
    "        u_s = cv.getTrackbarPos('U - S', 'Trackbars')\n",
    "        u_v = cv.getTrackbarPos('U - V', 'Trackbars')\n",
    "\n",
    "        l = np.array([l_h, l_s, l_v])\n",
    "        u = np.array([u_h, u_s, u_v])\n",
    "\n",
    "        frame_hsv = cv.cvtColor(frame, cv.COLOR_BGR2HSV)\n",
    "        mask_table_hsv = cv.inRange(frame_hsv, l, u)\n",
    "\n",
    "        res = cv.bitwise_and(frame, frame, mask=mask_table_hsv)\n",
    "\n",
    "        # Resize the frame, mask, and result for display\n",
    "        scale_percent = 20  # percent of original size\n",
    "        width = int(frame.shape[1] * scale_percent / 100)\n",
    "        height = int(frame.shape[0] * scale_percent / 100)\n",
    "        dim = (width, height)\n",
    "\n",
    "        resized_frame = cv.resize(frame, dim, interpolation=cv.INTER_AREA)\n",
    "        resized_mask = cv.resize(mask_table_hsv, dim, interpolation=cv.INTER_AREA)\n",
    "        resized_res = cv.resize(res, dim, interpolation=cv.INTER_AREA)\n",
    "\n",
    "        cv.imshow(\"Frame\", resized_frame)\n",
    "        cv.imshow(\"Mask\", resized_mask)\n",
    "        cv.imshow(\"Result\", resized_res)\n",
    "\n",
    "        if cv.waitKey(1) & 0xFF == 27:\n",
    "            break\n",
    "\n",
    "    cv.destroyAllWindows()"
   ]
  },
  {
   "cell_type": "code",
   "execution_count": 4,
   "metadata": {},
   "outputs": [],
   "source": [
    "# img = cv.imread(\"antrenare/1_01.jpg\")\n",
    "# find_color_values_using_trackbar(img)"
   ]
  },
  {
   "cell_type": "code",
   "execution_count": 7,
   "metadata": {},
   "outputs": [],
   "source": [
    "width = 2800\n",
    "height = 2800\n",
    "square_size = 200"
   ]
  },
  {
   "cell_type": "code",
   "execution_count": 8,
   "metadata": {},
   "outputs": [],
   "source": [
    "def get_mask_table_hsv(img):\n",
    "    # pt marginea tablei\n",
    "\tl = np.array([18, 128, 123])\n",
    "\tu = np.array([121, 255, 255])\n",
    "\n",
    "\timg_hsv = cv.cvtColor(img, cv.COLOR_BGR2HSV)\n",
    "\tmask_hsv = cv.inRange(img_hsv, l, u)\n",
    "\n",
    "\t# show_image('img_initial', img)\n",
    "\t# show_image('mask_hsv', mask_hsv)\n",
    "\treturn mask_hsv"
   ]
  },
  {
   "cell_type": "code",
   "execution_count": 9,
   "metadata": {},
   "outputs": [],
   "source": [
    "def get_full_board(img):\n",
    "\tmask_hsv = get_mask_table_hsv(img)\n",
    "\timg_copy = img.copy()\n",
    "\tcontours, _ = cv.findContours(mask_hsv, cv.RETR_EXTERNAL, cv.CHAIN_APPROX_SIMPLE)\n",
    "\t# cv.drawContours(img_copy, contours, -1, (0, 255, 0), 10)\n",
    "\tfor c in contours:\n",
    "\t\tarea = cv.contourArea(c)\n",
    "\t\tx, y, w, h = cv.boundingRect(c)\n",
    "\t\tcv.rectangle(img_copy, (x, y), (x+w, y+h), (0, 255, 0), 10)\n",
    "\n",
    "\t# show_image('img', img_copy)\n",
    "\n",
    "\tmax_area = 0\n",
    "\n",
    "\tfor i in range(len(contours)):\n",
    "\t\tif len(contours[i]) > 3:\n",
    "\t\t\tpossible_top_left = None\n",
    "\t\t\tpossible_bottom_right = None\n",
    "\t\t\tfor point in contours[i].squeeze():\n",
    "\t\t\t\tif possible_top_left is None or point[0] + point[1] < possible_top_left[0] + possible_top_left[1]:\n",
    "\t\t\t\t\tpossible_top_left = point\n",
    "\n",
    "\t\t\t\tif possible_bottom_right is None or point[0] + point[1] > possible_bottom_right[0] + possible_bottom_right[1]:\n",
    "\t\t\t\t\tpossible_bottom_right = point\n",
    "\n",
    "\t\t\tdiff = np.diff(contours[i].squeeze(), axis=1)\t# perechi de y - x\n",
    "\t\t\tpossible_top_right = contours[i].squeeze()[np.argmin(diff)]\n",
    "\t\t\tpossible_bottom_left = contours[i].squeeze()[np.argmax(diff)]\n",
    "\t\t\tif cv.contourArea(np.array([[possible_top_left], [possible_top_right], [possible_bottom_right], [possible_bottom_left]])) > max_area:\n",
    "\t\t\t\tmax_area = cv.contourArea(np.array([[possible_top_left], [possible_top_right], [possible_bottom_right], [possible_bottom_left]]))\n",
    "\t\t\t\ttop_left = possible_top_left\n",
    "\t\t\t\tbottom_right = possible_bottom_right\n",
    "\t\t\t\ttop_right = possible_top_right\n",
    "\t\t\t\tbottom_left = possible_bottom_left\n",
    "\n",
    "\tcv.circle(img_copy, tuple(top_left), 20, (0, 0, 255), -1)\n",
    "\tcv.circle(img_copy, tuple(top_right), 20, (0, 0, 255), -1)\n",
    "\tcv.circle(img_copy, tuple(bottom_left), 20, (0, 0, 255), -1)\n",
    "\tcv.circle(img_copy, tuple(bottom_right), 20, (0, 0, 255), -1)\n",
    "\t# show_image(\"detected corners\", img_copy)\n",
    "\n",
    "\tpuzzle = np.array((top_left, top_right, bottom_right, bottom_left), dtype='float32')\n",
    "\tdestination = np.array(([0, 0], [width, 0], [width, height], [0, height]), dtype='float32')\n",
    "\tM = cv.getPerspectiveTransform(puzzle, destination)\n",
    "\tresult = cv.warpPerspective(img, M, (width, height), flags=cv.INTER_LINEAR)\n",
    "\t# show_image(\"result\", result)\n",
    "\treturn result"
   ]
  },
  {
   "cell_type": "code",
   "execution_count": 10,
   "metadata": {},
   "outputs": [],
   "source": [
    "empty_board = [\n",
    "    ['x3', 'e', 'e', 'e', 'e', 'e', 'x3', 'x3', 'e', 'e', 'e', 'e', 'e', 'x3'],\n",
    "    ['e', 'x2', 'e', 'e', '/', 'e', 'e', 'e', 'e', '/', 'e', 'e', 'x2', 'e'],\n",
    "    ['e', 'e', 'x2', 'e', 'e', '-', 'e', 'e', '-', 'e', 'e', 'x2', 'e', 'e'],\n",
    "    ['e', 'e', 'e', 'x2', 'e', 'e', '+', 'x', 'e', 'e', 'x2', 'e', 'e', 'e'],\n",
    "    ['e', '/', 'e', 'e', 'x2', 'e', '+', 'x', 'e', 'x2', 'e', 'e', '/', 'e'],\n",
    "    ['e', 'e', '-', 'e', 'e', 'e', 'e', 'e', 'e', 'e', 'e', '-', 'e', 'e'],\n",
    "    ['x3', 'e', 'e', 'x', '+', 'e', '1', '2', 'e', 'x', '+', 'e', 'e', 'x3'],\n",
    "    ['x3', 'e', 'e', 'x', '+', 'e', '3', '4', 'e', 'x', '+', 'e', 'e', 'x3'],\n",
    "    ['e', 'e', '-', 'e', 'e', 'e', 'e', 'e', 'e', 'e', 'e', '-', 'e', 'e'],\n",
    "    ['e', '/', 'e', 'e', 'x2', 'e', '+', 'x', 'e', 'x2', 'e', 'e', '/', 'e'],\n",
    "    ['e', 'e', 'e', 'x2', 'e', 'e', '+', 'x', 'e', 'e', 'x2', 'e', 'e', 'e'],\n",
    "    ['e', 'e', 'x2', 'e', 'e', '-', 'e', 'e', '-', 'e', 'e', 'x2', 'e', 'e'],\n",
    "    ['e', 'x2', 'e', 'e', '/', 'e', 'e', 'e', 'e', '/', 'e', 'e', 'x2', 'e'],\n",
    "    ['x3', 'e', 'e', 'e', 'e', 'e', 'x3', 'x3', 'e', 'e', 'e', 'e', 'e', 'x3']]"
   ]
  },
  {
   "cell_type": "code",
   "execution_count": 11,
   "metadata": {},
   "outputs": [],
   "source": [
    "numbers = ['0', '1', '2', '3', '4', '5', '6', '7', '8', '9', '10', '11', '12', '13',\n",
    "           '14', '15', '16', '17', '18', '19', '20', '21', '24', '25', '27', '28',\n",
    "           '30', '32', '35', '36', '40', '42', '45', '48', '49', '50', '54', '56', \n",
    "           '56', '60', '63', '64', '70', '72', '80', '81', '90']"
   ]
  },
  {
   "cell_type": "code",
   "execution_count": 12,
   "metadata": {},
   "outputs": [],
   "source": [
    "def get_game_board(img):\n",
    "    full_board = get_full_board(img)\n",
    "    small_perct = 0.1293\n",
    "    big_perct = 0.8707\n",
    "    top_left = (small_perct * width, small_perct * width)\n",
    "    top_right = (big_perct * width, small_perct * width)\n",
    "    bottom_right = (big_perct * width, big_perct * width)\n",
    "    bottom_left = (small_perct * width, big_perct * width)\n",
    "    \n",
    "    puzzle = np.array((top_left, top_right, bottom_right, bottom_left), dtype='float32')\n",
    "    destination = np.array(([0, 0], [width, 0], [width, height], [0, height]), dtype='float32')\n",
    "    M = cv.getPerspectiveTransform(puzzle, destination)\n",
    "    \n",
    "    board_copy = full_board.copy()\n",
    "    board_copy = cv.warpPerspective(full_board, M, (width, height), flags=cv.INTER_LINEAR)\n",
    "    # show_image(\"result\", board_copy)\n",
    "    return board_copy"
   ]
  },
  {
   "cell_type": "code",
   "execution_count": 13,
   "metadata": {},
   "outputs": [],
   "source": [
    "def get_boards(folder):\n",
    "    boards = []\n",
    "    files = os.listdir(folder)\n",
    "    for file in files:\n",
    "        if file.endswith('.jpg'):\n",
    "            img = cv.imread(folder + '/' + file)\n",
    "            board = get_game_board(img)\n",
    "            boards.append(board)\n",
    "    return boards"
   ]
  },
  {
   "cell_type": "code",
   "execution_count": 14,
   "metadata": {},
   "outputs": [],
   "source": [
    "def preprocess_image(img):\n",
    "    img_gray = cv.cvtColor(img, cv.COLOR_BGR2GRAY)\n",
    "    img_m_blur = cv.medianBlur(img_gray, 5)\n",
    "    img_g_blur = cv.GaussianBlur(img_m_blur, (0, 0), 5)\n",
    "    img_sharpened = cv.addWeighted(img_m_blur, 1.2, img_g_blur, -0.8, 0)\n",
    "    _, thresh = cv.threshold(img_sharpened, 30, 255, cv.THRESH_BINARY)\n",
    "    kernel = np.ones((5, 5), np.uint8)\n",
    "    thresh = cv.erode(thresh, kernel)\n",
    "    return img_gray"
   ]
  },
  {
   "cell_type": "code",
   "execution_count": 12,
   "metadata": {},
   "outputs": [],
   "source": [
    "def create_templates():\n",
    "    os.makedirs(\"templates\", exist_ok=True)\n",
    "    img = get_game_board(cv.imread(\"imagini_auxiliare/03.jpg\"))\n",
    "    processed_img = preprocess_image(img)\n",
    "    \n",
    "    index = 0\n",
    "    for i in range(5, 10):\n",
    "        for j in range(4, 12):\n",
    "            x = j * square_size\n",
    "            y = i * square_size\n",
    "            template = processed_img[y+10:y+square_size-10, x+10:x+square_size-10]\n",
    "            cv.imwrite(f\"templates/{index}.jpg\", template)\n",
    "            index += 1\n",
    "    for j in range(4, 10):\n",
    "        x = j * square_size\n",
    "        y = 10 * square_size\n",
    "        template = processed_img[y+10:y+square_size-10, x+10:x+square_size-10]\n",
    "        cv.imwrite(f\"templates/{index}.jpg\", template)"
   ]
  },
  {
   "cell_type": "code",
   "execution_count": 13,
   "metadata": {},
   "outputs": [],
   "source": [
    "def create_templates_2():\n",
    "    os.makedirs(\"templates\", exist_ok=True)\n",
    "    img = get_game_board(cv.imread(\"imagini_auxiliare/04.jpg\"))\n",
    "    processed_img = preprocess_image(img)\n",
    "    \n",
    "    index = 0\n",
    "    for i in range(0, 11, 2):\n",
    "        for j in range(0, 13, 2):\n",
    "            x = j * square_size\n",
    "            y = i * square_size\n",
    "            template = processed_img[y+10:y+square_size-10, x+10:x+square_size-10].copy()\n",
    "            cv.imwrite(f\"templates/{index}.jpg\", template)\n",
    "            index += 1\n",
    "            \n",
    "    for j in range(0, 7, 2):\n",
    "        x = j * square_size\n",
    "        y = 12 * square_size\n",
    "        template = processed_img[y+10:y+square_size-10, x+10:x+square_size-10].copy()\n",
    "        cv.imwrite(f\"templates/{index}.jpg\", template)\n",
    "        index += 1"
   ]
  },
  {
   "cell_type": "code",
   "execution_count": 14,
   "metadata": {},
   "outputs": [],
   "source": [
    "create_templates_2()"
   ]
  },
  {
   "cell_type": "code",
   "execution_count": 15,
   "metadata": {},
   "outputs": [],
   "source": [
    "def resize_templates():\n",
    "    os.makedirs(\"templates_3\", exist_ok=True)\n",
    "    for i in range(46):\n",
    "        img = cv.imread(f\"templates_2/{i}.jpg\")\n",
    "        img = cv.resize(img, (50, 50))\n",
    "        cv.imwrite(f\"templates_3/{i}.jpg\", img)"
   ]
  },
  {
   "cell_type": "code",
   "execution_count": 16,
   "metadata": {},
   "outputs": [],
   "source": [
    "resize_templates()"
   ]
  },
  {
   "cell_type": "code",
   "execution_count": null,
   "metadata": {},
   "outputs": [],
   "source": [
    "board = get_game_board(cv.imread(\"antrenare/1_01.jpg\"))\n",
    "show_image(\"board\", board)\n",
    "print(board.shape)"
   ]
  },
  {
   "cell_type": "code",
   "execution_count": null,
   "metadata": {},
   "outputs": [],
   "source": [
    "empty_board_img = get_game_board(cv.imread(\"imagini_auxiliare/01.jpg\"))"
   ]
  },
  {
   "cell_type": "code",
   "execution_count": 17,
   "metadata": {},
   "outputs": [],
   "source": [
    "test_boards = get_boards(\"evaluare/fake_test\")"
   ]
  },
  {
   "cell_type": "code",
   "execution_count": 18,
   "metadata": {},
   "outputs": [],
   "source": [
    "def get_valid_posisions(board):\n",
    "\tvalid_positions = []\n",
    "\tfor i in range(14):\n",
    "\t\tfor j in range(14):\n",
    "\t\t\tif board[i][j] in numbers:\n",
    "\t\t\t\tcontinue\n",
    "\t\t\tif i - 1 >= 0 and board[i-1][j] in numbers:\n",
    "\t\t\t\tvalid_positions.append((i, j))\n",
    "\t\t\telif i + 1 < 14 and board[i+1][j] in numbers:\n",
    "\t\t\t\tvalid_positions.append((i, j))\n",
    "\t\t\telif j - 1 >= 0 and board[i][j-1] in numbers:\n",
    "\t\t\t\tvalid_positions.append((i, j))\n",
    "\t\t\telif j + 1 < 14 and board[i][j+1] in numbers:\n",
    "\t\t\t\tvalid_positions.append((i, j))\n",
    "\treturn valid_positions"
   ]
  },
  {
   "cell_type": "code",
   "execution_count": 1,
   "metadata": {},
   "outputs": [],
   "source": [
    "def classify_number(patch):\n",
    "    patch = preprocess_image(patch)\n",
    "    # show_image(\"patch\", patch)\n",
    "    max_corr = -np.inf\n",
    "    index = -1\n",
    "    for j in range(0, 46):\n",
    "        img_template = cv.imread('templates_3/' + str(j) + '.jpg')\n",
    "        if len(img_template.shape) == 3:\n",
    "            img_template = cv.cvtColor(img_template, cv.COLOR_BGR2GRAY)\n",
    "        img_template = cv.resize(img_template, (60, 60))\n",
    "        show_image(\"template\", img_template)\n",
    "        show_image(\"patch\", patch)\n",
    "        corr = cv.matchTemplate(patch, img_template, cv.TM_CCOEFF_NORMED)\n",
    "        corr = np.max(corr)\n",
    "        if corr > max_corr:\n",
    "            max_corr = corr\n",
    "            index = j\n",
    "    return numbers[index]"
   ]
  },
  {
   "cell_type": "code",
   "execution_count": 2,
   "metadata": {},
   "outputs": [],
   "source": [
    "def solve(boards):\n",
    "    os.makedirs(\"evaluare/fisiere_solutie/332_Hodivoianu_Anamaria\", exist_ok=True)\n",
    "    num_boards = len(boards)\n",
    "    num_games = num_boards // 50\n",
    "    for i in range(num_games):\n",
    "        game_board = deepcopy(empty_board)\n",
    "        curr_boards = boards[i*50 : (i+1)*50]\n",
    "        curr_boards.insert(0, empty_board_img)\n",
    "        for j in range(1, 51):\n",
    "            diff = cv.subtract(curr_boards[j], curr_boards[j-1])\n",
    "            valid_positions = get_valid_posisions(game_board)\n",
    "            max_diff, max_x, max_y = 0, 0, 0\n",
    "            for x in range(0, 14):\n",
    "                for y in range(0, 14):\n",
    "                    if (x, y) not in valid_positions:\n",
    "                        continue\n",
    "                    x_coord = x * square_size\n",
    "                    y_coord = y * square_size\n",
    "                    square = diff[x_coord:x_coord+square_size, y_coord:y_coord+square_size]\n",
    "                    if np.mean(square) > max_diff:\n",
    "                        max_diff = np.mean(square)\n",
    "                        max_x = x\n",
    "                        max_y = y\n",
    "            # cv.rectangle(diff, (max_y*square_size, max_x*square_size), (max_y*square_size+square_size, max_x*square_size+square_size), (0, 0, 255), 10)\n",
    "            # show_image(\"diff\", diff)\n",
    "            patch = curr_boards[j][max_x*square_size:max_x*square_size+square_size, max_y*square_size:max_y*square_size+square_size].copy()\n",
    "            number = classify_number(patch)\n",
    "            game_board[max_x][max_y] = number\n",
    "            if j < 10:\n",
    "                  with open(\"evaluare/fisiere_solutie/332_Hodivoianu_Anamaria/\" + str(i + 1) + \"_0\" + str(j) + \".txt\", \"w\") as f:\n",
    "                        f.write(str(max_x + 1) + chr((max_y)%26+ord(\"A\")) + \" \" + game_board[max_x][max_y])\n",
    "            else:\n",
    "                with open(\"evaluare/fisiere_solutie/332_Hodivoianu_Anamaria/\" + str(i + 1) + \"_\" + str(j) + \".txt\", \"w\") as f:\n",
    "                    f.write(str(max_x + 1) + chr((max_y)%26+ord(\"A\")) + \" \" + game_board[max_x][max_y])"
   ]
  },
  {
   "cell_type": "code",
   "execution_count": 3,
   "metadata": {},
   "outputs": [
    {
     "ename": "NameError",
     "evalue": "name 'test_boards' is not defined",
     "output_type": "error",
     "traceback": [
      "\u001b[1;31m---------------------------------------------------------------------------\u001b[0m",
      "\u001b[1;31mNameError\u001b[0m                                 Traceback (most recent call last)",
      "Cell \u001b[1;32mIn[3], line 1\u001b[0m\n\u001b[1;32m----> 1\u001b[0m solve(\u001b[43mtest_boards\u001b[49m)\n",
      "\u001b[1;31mNameError\u001b[0m: name 'test_boards' is not defined"
     ]
    }
   ],
   "source": [
    "solve(test_boards)"
   ]
  },
  {
   "cell_type": "code",
   "execution_count": null,
   "metadata": {},
   "outputs": [],
   "source": [
    "# find_color_values_using_trackbar(result)"
   ]
  },
  {
   "cell_type": "code",
   "execution_count": null,
   "metadata": {},
   "outputs": [],
   "source": [
    "# # l = np.array([0, 0, 0])\n",
    "# # u = np.array([179, 123, 255])\n",
    "\n",
    "# # l = np.array([57, 23, 83])\n",
    "# # u = np.array([179, 255, 255])\n",
    "\n",
    "# # pt patratele portocalii\n",
    "# # l = np.array([89, 0, 87])\n",
    "# # u = np.array([179, 255, 255])\n",
    "\n",
    "# # l = np.array([84, 0, 0])\n",
    "# # u = np.array([179, 255, 255])\n",
    "\n",
    "# # pt patrate\n",
    "# l = np.array([93, 101, 80])\n",
    "# u = np.array([111, 255, 255])\n",
    "\n",
    "# result_hsv = cv.cvtColor(result, cv.COLOR_BGR2HSV)\n",
    "# mask_hsv = cv.inRange(result_hsv, l, u)\n",
    "\n",
    "# show_image('img_initial', result)\n",
    "# show_image('mask_hsv', mask_hsv)"
   ]
  },
  {
   "cell_type": "code",
   "execution_count": null,
   "metadata": {},
   "outputs": [],
   "source": [
    "# contours, _ = cv.findContours(mask_hsv, cv.RETR_TREE, cv.CHAIN_APPROX_SIMPLE)\n",
    "\n",
    "# result_copy = result.copy()\n",
    "# cv.drawContours(result_copy, contours, -1, (0, 255, 0), 10)\n",
    "# show_image('result', result_copy)"
   ]
  },
  {
   "cell_type": "code",
   "execution_count": null,
   "metadata": {},
   "outputs": [],
   "source": [
    "# result_copy = result.copy()\n",
    "# for c in contours:\n",
    "# \tarea = cv.contourArea(c)\n",
    "# \tx, y, w, h = cv.boundingRect(c)\n",
    "# \tcv.rectangle(result_copy, (x, y), (x+w, y+h), (0, 255, 0), 10)\n",
    "# \t# x1, y1 = c[0][0]\n",
    "# \t# cv.drawContours(result_copy, [c], -1, (0, 255, 0), 10)\n",
    "# \t# x, y, w, h = cv.boundingRect(c)\n",
    "# \t# if w > 1000 and h > 1000:\n",
    "# \t# \tprint(x, y, w, h)\n",
    "# \t# \tcv.rectangle(result_copy, (x, y), (x+w, y+h), (0, 255, 0), 10)\n",
    "\n",
    "# show_image(\"Shapes\", result_copy)"
   ]
  },
  {
   "cell_type": "code",
   "execution_count": null,
   "metadata": {},
   "outputs": [
    {
     "ename": "error",
     "evalue": "OpenCV(4.10.0) d:\\a\\opencv-python\\opencv-python\\opencv\\modules\\imgproc\\src\\color.simd_helpers.hpp:92: error: (-2:Unspecified error) in function '__cdecl cv::impl::`anonymous-namespace'::CvtHelper<struct cv::impl::`anonymous namespace'::Set<3,-1,-1>,struct cv::impl::A0x9faa3a91::Set<3,4,-1>,struct cv::impl::A0x9faa3a91::Set<0,5,-1>,4>::CvtHelper(const class cv::_InputArray &,const class cv::_OutputArray &,int)'\n> Invalid number of channels in input image:\n>     'VScn::contains(scn)'\n> where\n>     'scn' is 1\n",
     "output_type": "error",
     "traceback": [
      "\u001b[1;31m---------------------------------------------------------------------------\u001b[0m",
      "\u001b[1;31merror\u001b[0m                                     Traceback (most recent call last)",
      "Cell \u001b[1;32mIn[92], line 1\u001b[0m\n\u001b[1;32m----> 1\u001b[0m mask_bgr \u001b[38;5;241m=\u001b[39m \u001b[43mcv\u001b[49m\u001b[38;5;241;43m.\u001b[39;49m\u001b[43mcvtColor\u001b[49m\u001b[43m(\u001b[49m\u001b[43mmask_hsv\u001b[49m\u001b[43m,\u001b[49m\u001b[43m \u001b[49m\u001b[43mcv\u001b[49m\u001b[38;5;241;43m.\u001b[39;49m\u001b[43mCOLOR_HSV2BGR\u001b[49m\u001b[43m)\u001b[49m\n\u001b[0;32m      2\u001b[0m mask_gray \u001b[38;5;241m=\u001b[39m cv\u001b[38;5;241m.\u001b[39mcvtColor(mask_bgr, cv\u001b[38;5;241m.\u001b[39mCOLOR_BGR2GRAY)\n\u001b[0;32m      3\u001b[0m image_m_blur \u001b[38;5;241m=\u001b[39m cv\u001b[38;5;241m.\u001b[39mmedianBlur(mask_gray, \u001b[38;5;241m5\u001b[39m)\n",
      "\u001b[1;31merror\u001b[0m: OpenCV(4.10.0) d:\\a\\opencv-python\\opencv-python\\opencv\\modules\\imgproc\\src\\color.simd_helpers.hpp:92: error: (-2:Unspecified error) in function '__cdecl cv::impl::`anonymous-namespace'::CvtHelper<struct cv::impl::`anonymous namespace'::Set<3,-1,-1>,struct cv::impl::A0x9faa3a91::Set<3,4,-1>,struct cv::impl::A0x9faa3a91::Set<0,5,-1>,4>::CvtHelper(const class cv::_InputArray &,const class cv::_OutputArray &,int)'\n> Invalid number of channels in input image:\n>     'VScn::contains(scn)'\n> where\n>     'scn' is 1\n"
     ]
    }
   ],
   "source": [
    "# image = cv.cvtColor(mask_hsv, cv.COLOR_2GRAY)\n",
    "# image_m_blur = cv.medianBlur(image, 5)\n",
    "# image_g_blur = cv.GaussianBlur(image_m_blur, (0, 0), 5) \n",
    "# image_sharpened = cv.addWeighted(image_m_blur, 1.5, image_g_blur, -1.3, 0)\n",
    "# show_image('image_sharpened', image_sharpened)\n",
    "# _, thresh = cv.threshold(image_sharpened, 30, 255, cv.THRESH_BINARY)\n",
    "\n",
    "# kernel = np.ones((5, 5), np.uint8)\n",
    "# thresh = cv.erode(thresh, kernel)\n",
    "# show_image('image_thresholded', thresh)\n",
    "\n",
    "# edges = cv.Canny(thresh, 200, 400)\n",
    "# show_image('edges', edges)\n",
    "# contours, _ = cv.findContours(edges, cv.RETR_EXTERNAL, cv.CHAIN_APPROX_SIMPLE)\n",
    "# max_area = 0\n",
    "\n",
    "# result_copy = result.copy()\n",
    "# cv.drawContours(result_copy, contours, -1, (0, 255, 0), 10)\n",
    "# show_image('result', result_copy)"
   ]
  }
 ],
 "metadata": {
  "kernelspec": {
   "display_name": "vision_env",
   "language": "python",
   "name": "python3"
  },
  "language_info": {
   "codemirror_mode": {
    "name": "ipython",
    "version": 3
   },
   "file_extension": ".py",
   "mimetype": "text/x-python",
   "name": "python",
   "nbconvert_exporter": "python",
   "pygments_lexer": "ipython3",
   "version": "3.12.7"
  }
 },
 "nbformat": 4,
 "nbformat_minor": 2
}
